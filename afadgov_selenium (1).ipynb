{
 "cells": [
  {
   "cell_type": "code",
   "execution_count": 45,
   "metadata": {},
   "outputs": [],
   "source": [
    "from urllib.request import urlopen, Request\n",
    "from bs4 import BeautifulSoup\n",
    "\n",
    "import pandas as pd\n",
    "import numpy as np\n",
    "\n",
    "from selenium import webdriver\n",
    "import selenium\n",
    "from selenium.common.exceptions import *\n",
    "\n",
    "import time"
   ]
  },
  {
   "cell_type": "code",
   "execution_count": 51,
   "metadata": {},
   "outputs": [],
   "source": [
    "chrome_part = \"C:/Program Files (x86)/Google/Chrome/Application/chromedriver\"\n",
    "driver = webdriver.Chrome(chrome_part)"
   ]
  },
  {
   "cell_type": "code",
   "execution_count": 52,
   "metadata": {},
   "outputs": [],
   "source": [
    "url = \"https://deprem.afad.gov.tr/depremkatalogu?lang=en\"\n",
    "driver.get(url)"
   ]
  },
  {
   "cell_type": "code",
   "execution_count": 53,
   "metadata": {},
   "outputs": [],
   "source": [
    "driver.find_element_by_xpath('//*[@id=\"searchType\"]/option[2]').click()"
   ]
  },
  {
   "cell_type": "code",
   "execution_count": 54,
   "metadata": {},
   "outputs": [],
   "source": [
    "\n",
    "driver.find_element_by_xpath('//*[@id=\"formCat1900\"]/div[10]/div/button[2]').click()"
   ]
  },
  {
   "cell_type": "code",
   "execution_count": 55,
   "metadata": {},
   "outputs": [],
   "source": [
    "tablo = driver.find_elements_by_css_selector(\".dataTable\")"
   ]
  },
  {
   "cell_type": "code",
   "execution_count": 56,
   "metadata": {},
   "outputs": [
    {
     "name": "stdout",
     "output_type": "stream",
     "text": [
      "Nr Date(UTC) Ref1 Source Description 1\n",
      "0 07/06/2021 16:00:19 0 36.4261 27.0918 18.97 - 7 AFAD-DDA Mw 4.1 7 AFAD-DDA -\n",
      "0 04/06/2021 20:23:10 0 36.4461 27.1643 11.09 - 7 AFAD-DDA Mw 4.1 7 AFAD-DDA -\n",
      "0 02/06/2021 06:14:27 0 37.5625 36.1321 14.37 - 7 AFAD-DDA Mw 4.2 7 AFAD-DDA -\n",
      "0 31/05/2021 06:23:39 0 35.3220 32.8156 25.63 - 7 AFAD-DDA ML 4.3 7 AFAD-DDA -\n",
      "0 25/05/2021 21:37:51 0 40.0185 40.0676 7.34 - 7 AFAD-DDA Mw 4.2 7 AFAD-DDA -\n",
      "0 21/05/2021 22:23:30 0 36.4761 27.2015 8.13 - 7 AFAD-DDA Mw 4.1 7 AFAD-DDA -\n",
      "0 21/05/2021 16:06:57 0 38.2620 38.6811 6.97 - 7 AFAD-DDA ML 4.3 7 AFAD-DDA -\n",
      "0 15/05/2021 23:06:23 0 40.2385 34.4828 13.94 - 7 AFAD-DDA Mw 4.0 7 AFAD-DDA -\n",
      "0 08/05/2021 11:41:44 0 36.4740 27.1118 7.06 - 7 AFAD-DDA Mw 4.0 7 AFAD-DDA -\n",
      "0 05/05/2021 23:40:39 0 36.6540 27.6886 47.38 - 7 AFAD-DDA Mw 4.0 7 AFAD-DDA -\n"
     ]
    }
   ],
   "source": [
    "for i in tablo:\n",
    "    print(i.text)"
   ]
  },
  {
   "cell_type": "code",
   "execution_count": 58,
   "metadata": {},
   "outputs": [],
   "source": [
    "driver.find_element_by_xpath('//html/body/div[1]/div[3]/div/div[5]/div/div/div[3]/div[2]/div/ul/li[2]').click()\n"
   ]
  },
  {
   "cell_type": "code",
   "execution_count": 59,
   "metadata": {
    "collapsed": true
   },
   "outputs": [
    {
     "ename": "WebDriverException",
     "evalue": "Message: unknown error: cannot determine loading status\nfrom disconnected: received Inspector.detached event\n  (Session info: chrome=91.0.4472.114)\n",
     "output_type": "error",
     "traceback": [
      "\u001b[1;31m---------------------------------------------------------------------------\u001b[0m",
      "\u001b[1;31mWebDriverException\u001b[0m                        Traceback (most recent call last)",
      "\u001b[1;32m<ipython-input-59-35ed4407d36b>\u001b[0m in \u001b[0;36m<module>\u001b[1;34m\u001b[0m\n\u001b[0;32m      3\u001b[0m \u001b[0mdriver\u001b[0m \u001b[1;33m=\u001b[0m \u001b[0mwebdriver\u001b[0m\u001b[1;33m.\u001b[0m\u001b[0mChrome\u001b[0m\u001b[1;33m(\u001b[0m\u001b[0mchrome_part\u001b[0m\u001b[1;33m)\u001b[0m\u001b[1;33m\u001b[0m\u001b[1;33m\u001b[0m\u001b[0m\n\u001b[0;32m      4\u001b[0m \u001b[0murl\u001b[0m \u001b[1;33m=\u001b[0m \u001b[1;34m\"https://deprem.afad.gov.tr/depremkatalogu?lang=en#\"\u001b[0m\u001b[1;33m\u001b[0m\u001b[1;33m\u001b[0m\u001b[0m\n\u001b[1;32m----> 5\u001b[1;33m \u001b[0mdriver\u001b[0m\u001b[1;33m.\u001b[0m\u001b[0mget\u001b[0m\u001b[1;33m(\u001b[0m\u001b[0murl\u001b[0m\u001b[1;33m)\u001b[0m\u001b[1;33m\u001b[0m\u001b[1;33m\u001b[0m\u001b[0m\n\u001b[0m\u001b[0;32m      6\u001b[0m \u001b[0mdriver\u001b[0m\u001b[1;33m.\u001b[0m\u001b[0mfind_element_by_xpath\u001b[0m\u001b[1;33m(\u001b[0m\u001b[1;34m'//*[@id=\"searchType\"]/option[2]'\u001b[0m\u001b[1;33m)\u001b[0m\u001b[1;33m.\u001b[0m\u001b[0mclick\u001b[0m\u001b[1;33m(\u001b[0m\u001b[1;33m)\u001b[0m\u001b[1;33m\u001b[0m\u001b[1;33m\u001b[0m\u001b[0m\n\u001b[0;32m      7\u001b[0m \u001b[0mdriver\u001b[0m\u001b[1;33m.\u001b[0m\u001b[0mfind_element_by_xpath\u001b[0m\u001b[1;33m(\u001b[0m\u001b[1;34m'//*[@id=\"formCat1900\"]/div[10]/div/button[2]'\u001b[0m\u001b[1;33m)\u001b[0m\u001b[1;33m.\u001b[0m\u001b[0mclick\u001b[0m\u001b[1;33m(\u001b[0m\u001b[1;33m)\u001b[0m\u001b[1;33m\u001b[0m\u001b[1;33m\u001b[0m\u001b[0m\n",
      "\u001b[1;32m~\\anaconda3\\lib\\site-packages\\selenium\\webdriver\\remote\\webdriver.py\u001b[0m in \u001b[0;36mget\u001b[1;34m(self, url)\u001b[0m\n\u001b[0;32m    331\u001b[0m         \u001b[0mLoads\u001b[0m \u001b[0ma\u001b[0m \u001b[0mweb\u001b[0m \u001b[0mpage\u001b[0m \u001b[1;32min\u001b[0m \u001b[0mthe\u001b[0m \u001b[0mcurrent\u001b[0m \u001b[0mbrowser\u001b[0m \u001b[0msession\u001b[0m\u001b[1;33m.\u001b[0m\u001b[1;33m\u001b[0m\u001b[1;33m\u001b[0m\u001b[0m\n\u001b[0;32m    332\u001b[0m         \"\"\"\n\u001b[1;32m--> 333\u001b[1;33m         \u001b[0mself\u001b[0m\u001b[1;33m.\u001b[0m\u001b[0mexecute\u001b[0m\u001b[1;33m(\u001b[0m\u001b[0mCommand\u001b[0m\u001b[1;33m.\u001b[0m\u001b[0mGET\u001b[0m\u001b[1;33m,\u001b[0m \u001b[1;33m{\u001b[0m\u001b[1;34m'url'\u001b[0m\u001b[1;33m:\u001b[0m \u001b[0murl\u001b[0m\u001b[1;33m}\u001b[0m\u001b[1;33m)\u001b[0m\u001b[1;33m\u001b[0m\u001b[1;33m\u001b[0m\u001b[0m\n\u001b[0m\u001b[0;32m    334\u001b[0m \u001b[1;33m\u001b[0m\u001b[0m\n\u001b[0;32m    335\u001b[0m     \u001b[1;33m@\u001b[0m\u001b[0mproperty\u001b[0m\u001b[1;33m\u001b[0m\u001b[1;33m\u001b[0m\u001b[0m\n",
      "\u001b[1;32m~\\anaconda3\\lib\\site-packages\\selenium\\webdriver\\remote\\webdriver.py\u001b[0m in \u001b[0;36mexecute\u001b[1;34m(self, driver_command, params)\u001b[0m\n\u001b[0;32m    319\u001b[0m         \u001b[0mresponse\u001b[0m \u001b[1;33m=\u001b[0m \u001b[0mself\u001b[0m\u001b[1;33m.\u001b[0m\u001b[0mcommand_executor\u001b[0m\u001b[1;33m.\u001b[0m\u001b[0mexecute\u001b[0m\u001b[1;33m(\u001b[0m\u001b[0mdriver_command\u001b[0m\u001b[1;33m,\u001b[0m \u001b[0mparams\u001b[0m\u001b[1;33m)\u001b[0m\u001b[1;33m\u001b[0m\u001b[1;33m\u001b[0m\u001b[0m\n\u001b[0;32m    320\u001b[0m         \u001b[1;32mif\u001b[0m \u001b[0mresponse\u001b[0m\u001b[1;33m:\u001b[0m\u001b[1;33m\u001b[0m\u001b[1;33m\u001b[0m\u001b[0m\n\u001b[1;32m--> 321\u001b[1;33m             \u001b[0mself\u001b[0m\u001b[1;33m.\u001b[0m\u001b[0merror_handler\u001b[0m\u001b[1;33m.\u001b[0m\u001b[0mcheck_response\u001b[0m\u001b[1;33m(\u001b[0m\u001b[0mresponse\u001b[0m\u001b[1;33m)\u001b[0m\u001b[1;33m\u001b[0m\u001b[1;33m\u001b[0m\u001b[0m\n\u001b[0m\u001b[0;32m    322\u001b[0m             response['value'] = self._unwrap_value(\n\u001b[0;32m    323\u001b[0m                 response.get('value', None))\n",
      "\u001b[1;32m~\\anaconda3\\lib\\site-packages\\selenium\\webdriver\\remote\\errorhandler.py\u001b[0m in \u001b[0;36mcheck_response\u001b[1;34m(self, response)\u001b[0m\n\u001b[0;32m    240\u001b[0m                 \u001b[0malert_text\u001b[0m \u001b[1;33m=\u001b[0m \u001b[0mvalue\u001b[0m\u001b[1;33m[\u001b[0m\u001b[1;34m'alert'\u001b[0m\u001b[1;33m]\u001b[0m\u001b[1;33m.\u001b[0m\u001b[0mget\u001b[0m\u001b[1;33m(\u001b[0m\u001b[1;34m'text'\u001b[0m\u001b[1;33m)\u001b[0m\u001b[1;33m\u001b[0m\u001b[1;33m\u001b[0m\u001b[0m\n\u001b[0;32m    241\u001b[0m             \u001b[1;32mraise\u001b[0m \u001b[0mexception_class\u001b[0m\u001b[1;33m(\u001b[0m\u001b[0mmessage\u001b[0m\u001b[1;33m,\u001b[0m \u001b[0mscreen\u001b[0m\u001b[1;33m,\u001b[0m \u001b[0mstacktrace\u001b[0m\u001b[1;33m,\u001b[0m \u001b[0malert_text\u001b[0m\u001b[1;33m)\u001b[0m\u001b[1;33m\u001b[0m\u001b[1;33m\u001b[0m\u001b[0m\n\u001b[1;32m--> 242\u001b[1;33m         \u001b[1;32mraise\u001b[0m \u001b[0mexception_class\u001b[0m\u001b[1;33m(\u001b[0m\u001b[0mmessage\u001b[0m\u001b[1;33m,\u001b[0m \u001b[0mscreen\u001b[0m\u001b[1;33m,\u001b[0m \u001b[0mstacktrace\u001b[0m\u001b[1;33m)\u001b[0m\u001b[1;33m\u001b[0m\u001b[1;33m\u001b[0m\u001b[0m\n\u001b[0m\u001b[0;32m    243\u001b[0m \u001b[1;33m\u001b[0m\u001b[0m\n\u001b[0;32m    244\u001b[0m     \u001b[1;32mdef\u001b[0m \u001b[0m_value_or_default\u001b[0m\u001b[1;33m(\u001b[0m\u001b[0mself\u001b[0m\u001b[1;33m,\u001b[0m \u001b[0mobj\u001b[0m\u001b[1;33m,\u001b[0m \u001b[0mkey\u001b[0m\u001b[1;33m,\u001b[0m \u001b[0mdefault\u001b[0m\u001b[1;33m)\u001b[0m\u001b[1;33m:\u001b[0m\u001b[1;33m\u001b[0m\u001b[1;33m\u001b[0m\u001b[0m\n",
      "\u001b[1;31mWebDriverException\u001b[0m: Message: unknown error: cannot determine loading status\nfrom disconnected: received Inspector.detached event\n  (Session info: chrome=91.0.4472.114)\n"
     ]
    }
   ],
   "source": [
    "liste = []\n",
    "chrome_part = \"C:/Program Files (x86)/Google/Chrome/Application/chromedriver\"\n",
    "driver = webdriver.Chrome(chrome_part)\n",
    "url = \"https://deprem.afad.gov.tr/depremkatalogu?lang=en#\"\n",
    "driver.get(url)\n",
    "driver.find_element_by_xpath('//*[@id=\"searchType\"]/option[2]').click()\n",
    "driver.find_element_by_xpath('//*[@id=\"formCat1900\"]/div[10]/div/button[2]').click()\n",
    "time.sleep(5)\n",
    "for i in range(2,5):\n",
    "    driver.find_element_by_xpath('//*[@id=\"resultTable_paginate\"]/ul/li[' + str(i) +']').click()\n",
    "    time.sleep(5)\n",
    "    \n",
    "    tablo = driver.find_elements_by_css_selector(\".dataTable\")\n",
    "    for k in tablo:\n",
    "        table = k.text\n",
    "        liste.append(table)\n",
    "\n",
    "driver.close()\n",
    "    "
   ]
  },
  {
   "cell_type": "code",
   "execution_count": 10,
   "metadata": {},
   "outputs": [
    {
     "data": {
      "text/plain": [
       "['Nr Date(UTC) Ref1 Source Description 1 Latitude Longitude Depth',\n",
       " '0 17/06/2021 00:35:16 0 35.7380 24.8870 37.50 - 7 AFAD-DDA Mw 4.0 7 AFAD-DDA -\\n0 07/06/2021 16:00:19 0 36.4261 27.0918 18.97 - 7 AFAD-DDA Mw 4.1 7 AFAD-DDA -\\n0 04/06/2021 20:23:10 0 36.4461 27.1643 11.09 - 7 AFAD-DDA Mw 4.1 7 AFAD-DDA -\\n0 02/06/2021 06:14:27 0 37.5625 36.1321 14.37 - 7 AFAD-DDA Mw 4.2 7 AFAD-DDA -\\n0 31/05/2021 06:23:39 0 35.3220 32.8156 25.63 - 7 AFAD-DDA ML 4.3 7 AFAD-DDA -\\n0 25/05/2021 21:37:51 0 40.0185 40.0676 7.34 - 7 AFAD-DDA Mw 4.2 7 AFAD-DDA -\\n0 24/05/2021 21:43:40 0 42.4746 44.8863 7.38 - 7 AFAD-DDA Mw 4.3 7 AFAD-DDA -\\n0 21/05/2021 22:23:30 0 36.4761 27.2015 8.13 - 7 AFAD-DDA Mw 4.1 7 AFAD-DDA -\\n0 21/05/2021 16:06:57 0 38.2620 38.6811 6.97 - 7 AFAD-DDA ML 4.3 7 AFAD-DDA -\\n0 19/05/2021 11:18:13 0 38.0826 27.0090 13.01 - 7 AFAD-DDA ML 4.2 7 AFAD-DDA -',\n",
       " 'Nr Date(UTC) Ref1 Source Description 1 Latitude Longitude Depth',\n",
       " '0 19/05/2021 11:14:59 0 38.0876 27.0295 10.16 - 7 AFAD-DDA ML 4.3 7 AFAD-DDA -\\n0 15/05/2021 23:06:23 0 40.2385 34.4828 13.94 - 7 AFAD-DDA Mw 4.0 7 AFAD-DDA -\\n0 08/05/2021 11:41:44 0 36.4740 27.1118 7.06 - 7 AFAD-DDA Mw 4.0 7 AFAD-DDA -\\n0 05/05/2021 23:40:39 0 36.6540 27.6886 47.38 - 7 AFAD-DDA Mw 4.0 7 AFAD-DDA -\\n0 05/05/2021 06:42:11 0 40.3460 27.3946 10.24 - 7 AFAD-DDA Mw 4.0 7 AFAD-DDA -\\n0 30/04/2021 07:52:20 0 36.5526 31.5913 6.43 - 7 AFAD-DDA ML 4.0 7 AFAD-DDA -\\n0 26/04/2021 19:58:36 0 36.4770 27.2363 13.19 - 7 AFAD-DDA Mw 4.1 7 AFAD-DDA -\\n0 26/04/2021 19:21:03 0 37.8366 26.9506 7.78 - 7 AFAD-DDA Mw 4.0 7 AFAD-DDA -\\n0 25/04/2021 09:39:03 0 38.2000 42.5141 6.41 - 7 AFAD-DDA ML 4.1 7 AFAD-DDA -\\n0 22/04/2021 19:49:57 0 36.3726 27.1295 7.08 - 7 AFAD-DDA Mw 4.2 7 AFAD-DDA -',\n",
       " 'Nr Date(UTC) Ref1 Source Description 1 Latitude Longitude Depth',\n",
       " '0 22/04/2021 00:06:14 0 36.4278 27.1653 6.65 - 7 AFAD-DDA Mw 4.1 7 AFAD-DDA -\\n0 21/04/2021 21:17:43 0 39.1401 28.0991 9.14 - 7 AFAD-DDA Mw 4.0 7 AFAD-DDA -\\n0 20/04/2021 14:32:19 0 36.4035 27.1466 5.07 - 7 AFAD-DDA Mw 4.0 7 AFAD-DDA -\\n0 20/04/2021 05:09:53 0 36.4246 27.1778 7.17 - 7 AFAD-DDA Mw 4.4 7 AFAD-DDA -\\n0 18/04/2021 16:26:26 0 36.4671 27.1991 7.27 - 7 AFAD-DDA Mw 4.2 7 AFAD-DDA -\\n0 17/04/2021 20:57:13 0 36.4786 27.1628 12.79 - 7 AFAD-DDA Mw 4.1 7 AFAD-DDA -\\n0 17/04/2021 17:08:03 0 36.4545 27.1945 7.32 - 7 AFAD-DDA Mw 4.8 7 AFAD-DDA -\\n0 13/04/2021 20:28:06 0 36.5425 27.2331 2.51 - 7 AFAD-DDA Mw 5.1 7 AFAD-DDA -\\n0 11/04/2021 14:06:36 0 40.8178 34.8066 11.22 - 7 AFAD-DDA ML 4.2 7 AFAD-DDA -\\n0 08/04/2021 15:23:07 0 36.4938 27.1780 7.73 - 7 AFAD-DDA Mw 4.2 7 AFAD-DDA -']"
      ]
     },
     "execution_count": 10,
     "metadata": {},
     "output_type": "execute_result"
    }
   ],
   "source": [
    "liste"
   ]
  }
 ],
 "metadata": {
  "kernelspec": {
   "display_name": "Python 3",
   "language": "python",
   "name": "python3"
  },
  "language_info": {
   "codemirror_mode": {
    "name": "ipython",
    "version": 3
   },
   "file_extension": ".py",
   "mimetype": "text/x-python",
   "name": "python",
   "nbconvert_exporter": "python",
   "pygments_lexer": "ipython3",
   "version": "3.8.3"
  }
 },
 "nbformat": 4,
 "nbformat_minor": 4
}
